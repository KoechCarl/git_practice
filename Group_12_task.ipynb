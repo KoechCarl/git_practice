{
  "nbformat": 4,
  "nbformat_minor": 0,
  "metadata": {
    "colab": {
      "provenance": []
    },
    "kernelspec": {
      "name": "python3",
      "display_name": "Python 3"
    },
    "language_info": {
      "name": "python"
    }
  },
  "cells": [
    {
      "cell_type": "markdown",
      "source": [
        "**Group 12's project based on Online Shops**"
      ],
      "metadata": {
        "id": "yrYhzR8ZzxmY"
      }
    },
    {
      "cell_type": "code",
      "execution_count": null,
      "metadata": {
        "id": "75PuVeKSwkH0"
      },
      "outputs": [],
      "source": [
        "#Creating variables of different data types\n",
        "item_name = 'smartphones'     #string\n",
        "price = 30000                 #integer\n",
        "on_sale = True                #boolean\n",
        "rating = 4.0                  #float"
      ]
    },
    {
      "cell_type": "code",
      "source": [
        "' I bought a ' + item_name + ' for ' + str(price) + ' kenya shillings '"
      ],
      "metadata": {
        "colab": {
          "base_uri": "https://localhost:8080/",
          "height": 35
        },
        "id": "ivpRnrLJ4TPH",
        "outputId": "1eeaf58f-48b4-4df1-fd3f-48073eb967d6"
      },
      "execution_count": null,
      "outputs": [
        {
          "output_type": "execute_result",
          "data": {
            "text/plain": [
              "' I bought a smartphones for 30000 kenya shillings '"
            ],
            "application/vnd.google.colaboratory.intrinsic+json": {
              "type": "string"
            }
          },
          "metadata": {},
          "execution_count": 8
        }
      ]
    },
    {
      "cell_type": "code",
      "source": [
        "# Creating and manipulating a list\n",
        "list1 = ['laptop','handbag','speaker']"
      ],
      "metadata": {
        "id": "XhrEdAdJ5NJG"
      },
      "execution_count": null,
      "outputs": []
    },
    {
      "cell_type": "code",
      "source": [
        "#Manipulating the list by appending\n",
        "list1.append('smartphones')\n",
        "print(list1)"
      ],
      "metadata": {
        "colab": {
          "base_uri": "https://localhost:8080/"
        },
        "id": "fP9IWlQB6Kw7",
        "outputId": "7d2eca2e-2d97-4859-c78d-d608bd75da82"
      },
      "execution_count": null,
      "outputs": [
        {
          "output_type": "stream",
          "name": "stdout",
          "text": [
            "['laptop', 'handbag', 'speaker', 'smartphones']\n"
          ]
        }
      ]
    },
    {
      "cell_type": "code",
      "source": [
        "list1.extend(['socks','skincare'])\n",
        "print(list1)"
      ],
      "metadata": {
        "colab": {
          "base_uri": "https://localhost:8080/"
        },
        "id": "rM6pVlQr-oYK",
        "outputId": "7dd4cdf8-6006-4132-eb1f-7533e17c0a5a"
      },
      "execution_count": null,
      "outputs": [
        {
          "output_type": "stream",
          "name": "stdout",
          "text": [
            "['laptop', 'handbag', 'speaker', 'smartphones', 'socks', 'skincare']\n"
          ]
        }
      ]
    },
    {
      "cell_type": "code",
      "source": [
        "#Inserting an item to list1\n",
        "list1.insert(0,'earphones')\n",
        "print(list1)"
      ],
      "metadata": {
        "colab": {
          "base_uri": "https://localhost:8080/"
        },
        "id": "PkvzBIRO6ZRI",
        "outputId": "0b715327-2208-4dc0-a5a6-ff44b61f0021"
      },
      "execution_count": null,
      "outputs": [
        {
          "output_type": "stream",
          "name": "stdout",
          "text": [
            "['earphones', 'laptop', 'handbag', 'speaker', 'smartphones', 'socks', 'skincare']\n"
          ]
        }
      ]
    },
    {
      "cell_type": "code",
      "source": [
        "list1.insert(3,'charger')\n",
        "print(list1)"
      ],
      "metadata": {
        "colab": {
          "base_uri": "https://localhost:8080/"
        },
        "id": "OBZZ5sdO63LI",
        "outputId": "b6a40b2c-94ee-4449-e1e0-68d57a8bc9f5"
      },
      "execution_count": null,
      "outputs": [
        {
          "output_type": "stream",
          "name": "stdout",
          "text": [
            "['earphones', 'laptop', 'handbag', 'charger', 'speaker', 'smartphones', 'socks', 'skincare']\n"
          ]
        }
      ]
    },
    {
      "cell_type": "code",
      "source": [
        "#Creating a tuple\n",
        "categories = ('electronics','clothing','medicine','cutlery')\n",
        "print(categories)"
      ],
      "metadata": {
        "colab": {
          "base_uri": "https://localhost:8080/"
        },
        "id": "gzS4TY-87PB7",
        "outputId": "71b3e441-a8e4-4395-e616-125bd41d3d9e"
      },
      "execution_count": null,
      "outputs": [
        {
          "output_type": "stream",
          "name": "stdout",
          "text": [
            "('electronics', 'clothing', 'medicine', 'cutlery')\n"
          ]
        }
      ]
    },
    {
      "cell_type": "code",
      "source": [
        "type(categories)"
      ],
      "metadata": {
        "colab": {
          "base_uri": "https://localhost:8080/"
        },
        "id": "_DfMeRp770bv",
        "outputId": "c00739d1-cbe3-42fe-9765-6878ae12bd95"
      },
      "execution_count": null,
      "outputs": [
        {
          "output_type": "execute_result",
          "data": {
            "text/plain": [
              "tuple"
            ]
          },
          "metadata": {},
          "execution_count": 22
        }
      ]
    },
    {
      "cell_type": "code",
      "source": [
        "#Creating a set and using it\n",
        "prices = {30000,40000,50000,60000,60000,30000}\n",
        "print(prices)"
      ],
      "metadata": {
        "colab": {
          "base_uri": "https://localhost:8080/"
        },
        "id": "uPDxx-GI8I4n",
        "outputId": "265af033-0d4e-43ad-e269-07f8bd251559"
      },
      "execution_count": null,
      "outputs": [
        {
          "output_type": "stream",
          "name": "stdout",
          "text": [
            "{30000, 50000, 60000, 40000}\n"
          ]
        }
      ]
    },
    {
      "cell_type": "code",
      "source": [
        "#Creating a dictionary\n",
        "inventory = {\n",
        "    'electronics' : ['smartphones','chargers','laptops'],\n",
        "    'clothing' : ['shirts','pants','shoes'],\n",
        "    'medicine' : ['drugs','antibiotics','panadols'],\n",
        "    'cutlery' : ['plates','spoons','forks']\n",
        "}\n",
        "print(inventory)\n",
        "\n"
      ],
      "metadata": {
        "colab": {
          "base_uri": "https://localhost:8080/"
        },
        "id": "xZHLrcGk8sBE",
        "outputId": "9a1acd1d-cbf1-4c04-ad7e-84e8042a087e"
      },
      "execution_count": null,
      "outputs": [
        {
          "output_type": "stream",
          "name": "stdout",
          "text": [
            "{'electronics': ['smartphones', 'chargers', 'laptops'], 'clothing': ['shirts', 'pants', 'shoes'], 'medicine': ['drugs', 'antibiotics', 'panadols'], 'cutlery': ['plates', 'spoons', 'forks']}\n"
          ]
        }
      ]
    },
    {
      "cell_type": "code",
      "source": [
        "#Manipulating the dictionary by adding and changing\n",
        "inventory['electronics'] = ['smartphones','chargers','laptops','speakers']\n",
        "inventory['clothing'] = ['shirts','pants','jackets']\n",
        "inventory['medicine'] = ['drugs','panadols']\n",
        "print(inventory)\n"
      ],
      "metadata": {
        "colab": {
          "base_uri": "https://localhost:8080/"
        },
        "id": "rl_VH-pLACX3",
        "outputId": "568d7379-cf9e-42f8-d4a3-66e7f60c2a69"
      },
      "execution_count": null,
      "outputs": [
        {
          "output_type": "stream",
          "name": "stdout",
          "text": [
            "{'electronics': ['smartphones', 'chargers', 'laptops', 'speakers'], 'clothing': ['shirts', 'pants', 'jackets'], 'medicine': ['drugs', 'panadols'], 'cutlery': ['plates', 'spoons', 'forks']}\n"
          ]
        }
      ]
    },
    {
      "cell_type": "code",
      "source": [
        "inventory['electronics'].insert(0,'iphone')\n",
        "print (inventory)"
      ],
      "metadata": {
        "colab": {
          "base_uri": "https://localhost:8080/"
        },
        "id": "87IPJ7PLzPwn",
        "outputId": "788ea262-1dc2-4e67-e610-63c2d47b2215"
      },
      "execution_count": null,
      "outputs": [
        {
          "output_type": "stream",
          "name": "stdout",
          "text": [
            "{'electronics': ['iphone', 'smartphones', 'chargers', 'laptops', 'speakers'], 'clothing': ['shirts', 'pants', 'jackets'], 'medicine': ['drugs', 'panadols'], 'cutlery': ['plates', 'spoons', 'forks']}\n"
          ]
        }
      ]
    },
    {
      "cell_type": "markdown",
      "source": [
        " **Adaptation on the new task**"
      ],
      "metadata": {
        "id": "5nK_tGnJvF6i"
      }
    },
    {
      "cell_type": "code",
      "source": [
        "# If and Else statements:\n",
        "price = int(input('Enter the amount you have: '))\n",
        "\n",
        "\n",
        "if price > 100000:\n",
        "    print('Iphone 16 available')\n",
        "\n",
        "if price > 70000 and price <= 100000:\n",
        "   print('IPhone 13-15 available')\n",
        "\n",
        "elif price <= 70000 and price >= 40000:\n",
        "    print('Iphone 10 - 12 available')\n",
        "\n",
        "else:\n",
        "    print('Nothing available in your budget')\n"
      ],
      "metadata": {
        "colab": {
          "base_uri": "https://localhost:8080/"
        },
        "id": "O9OL9LsIvSqi",
        "outputId": "d2563ba5-35ea-42bc-9b29-e9ec8419ba12"
      },
      "execution_count": 6,
      "outputs": [
        {
          "output_type": "stream",
          "name": "stdout",
          "text": [
            "Enter the amount you have: 35000\n",
            "Nothing available in your budget\n"
          ]
        }
      ]
    },
    {
      "cell_type": "code",
      "source": [
        "items = {\n",
        "    'appliances' : ['electric kettle','microwave','fridge','washing machines'],\n",
        "    'electronics' : ['smartphones','chargers','laptops','television'],\n",
        "    'clothing' : ['shirts','pants','jackets','shoes'],\n",
        "    'medicine' : ['drugs','panadols','antiboitics','probiotics'],\n",
        "    'cutlery' : ['plates','spoons','forks','glasses']\n",
        "}\n",
        "\n"
      ],
      "metadata": {
        "id": "98Uz-YD2wZXG"
      },
      "execution_count": 8,
      "outputs": []
    },
    {
      "cell_type": "code",
      "source": [
        "# For to loop the dictionary and present in a readable format\n",
        "for category in items:\n",
        "    print('\\n','Category:',category)\n",
        "\n",
        "    for item in items[category]:\n",
        "        print('-',item)"
      ],
      "metadata": {
        "colab": {
          "base_uri": "https://localhost:8080/"
        },
        "id": "UhdZDEMP3UI8",
        "outputId": "6e18d184-88fa-43cf-af17-bb482b20ec44"
      },
      "execution_count": 11,
      "outputs": [
        {
          "output_type": "stream",
          "name": "stdout",
          "text": [
            "\n",
            " Category: appliances\n",
            "- electric kettle\n",
            "- microwave\n",
            "- fridge\n",
            "- washing machines\n",
            "\n",
            " Category: electronics\n",
            "- smartphones\n",
            "- chargers\n",
            "- laptops\n",
            "- television\n",
            "\n",
            " Category: clothing\n",
            "- shirts\n",
            "- pants\n",
            "- jackets\n",
            "- shoes\n",
            "\n",
            " Category: medicine\n",
            "- drugs\n",
            "- panadols\n",
            "- antiboitics\n",
            "- probiotics\n",
            "\n",
            " Category: cutlery\n",
            "- plates\n",
            "- spoons\n",
            "- forks\n",
            "- glasses\n"
          ]
        }
      ]
    },
    {
      "cell_type": "code",
      "source": [
        "# Using a while loop\n",
        "daily_profit = 450000\n",
        "total_profit = 0\n",
        "\n",
        "while total_profit < daily_profit:\n",
        "  profit_made = int(input('Enter profit made this quarter-hour: '))\n",
        "  total_profit += profit_made\n",
        "  print('Total profit made is ',total_profit,'ksh')\n",
        "\n",
        "\n",
        "print('\\n'\"Daily profit is successfully reached. You've made \",total_profit,'ksh')\n",
        "\n"
      ],
      "metadata": {
        "colab": {
          "base_uri": "https://localhost:8080/"
        },
        "id": "DiR-7xsf3l-Y",
        "outputId": "b9c53be9-3eca-4ce9-c257-a3c14c14d8fa"
      },
      "execution_count": 12,
      "outputs": [
        {
          "output_type": "stream",
          "name": "stdout",
          "text": [
            "Enter profit made this quarter-hour: 60000\n",
            "Total profit made is  60000 ksh\n",
            "Enter profit made this quarter-hour: 80000\n",
            "Total profit made is  140000 ksh\n",
            "Enter profit made this quarter-hour: 150000\n",
            "Total profit made is  290000 ksh\n",
            "Enter profit made this quarter-hour: 150000\n",
            "Total profit made is  440000 ksh\n",
            "Enter profit made this quarter-hour: 120000\n",
            "Total profit made is  560000 ksh\n",
            "\n",
            "Daily profit is successfully reached. You've made  560000 ksh\n"
          ]
        }
      ]
    },
    {
      "cell_type": "code",
      "source": [
        "# Function\n",
        "prices = {\n",
        "    'smartphone' : 30000,\n",
        "    'charger' : 1000,\n",
        "    'laptop' : 60000,\n",
        "    'shirt' : 1500,\n",
        "    'shoes' : 5000\n",
        "}"
      ],
      "metadata": {
        "id": "U8IWxDHdAYmF"
      },
      "execution_count": 14,
      "outputs": []
    },
    {
      "cell_type": "code",
      "source": [
        "def function_name(parameters)"
      ],
      "metadata": {
        "id": "eZWfcNv56UKs"
      },
      "execution_count": null,
      "outputs": []
    },
    {
      "cell_type": "code",
      "source": [
        "def calculate_revenue(item,quantity):\n",
        "    if item in prices:\n",
        "       price = prices[item]\n",
        "       total = price * quantity\n",
        "       return total\n",
        "\n",
        "    else:\n",
        "        return'Item not found'\n",
        "\n",
        "\n",
        "item_name = input(\"Enter item name: \").lower()\n",
        "quantity_sold = int(input('Enter quantity sold: '))\n",
        "revenue = calculate_revenue(item_name,quantity_sold)\n",
        "print('Total revenue selling',quantity_sold,item_name + ('s'),revenue,'ksh')\n",
        "\n"
      ],
      "metadata": {
        "colab": {
          "base_uri": "https://localhost:8080/"
        },
        "id": "fFLsCLv6ELFK",
        "outputId": "bf3a9532-f7ae-46f4-a0f9-ebae744b29e8"
      },
      "execution_count": 15,
      "outputs": [
        {
          "output_type": "stream",
          "name": "stdout",
          "text": [
            "Enter item name: laptop\n",
            "Enter quantity sold: 2\n",
            "Total revenue selling 2 laptops 120000 ksh\n"
          ]
        }
      ]
    }
  ]
}