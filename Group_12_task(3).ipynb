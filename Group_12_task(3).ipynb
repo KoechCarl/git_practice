{
  "nbformat": 4,
  "nbformat_minor": 0,
  "metadata": {
    "colab": {
      "provenance": [],
      "toc_visible": true
    },
    "kernelspec": {
      "name": "python3",
      "display_name": "Python 3"
    },
    "language_info": {
      "name": "python"
    }
  },
  "cells": [
    {
      "cell_type": "markdown",
      "source": [
        "# **Group 12's project based on Online Shops**"
      ],
      "metadata": {
        "id": "yrYhzR8ZzxmY"
      }
    },
    {
      "cell_type": "code",
      "execution_count": null,
      "metadata": {
        "id": "75PuVeKSwkH0"
      },
      "outputs": [],
      "source": [
        "#Creating variables of different data types\n",
        "item_name = 'smartphones'     #string\n",
        "price = 30000                 #integer\n",
        "on_sale = True                #boolean\n",
        "rating = 4.0                  #float"
      ]
    },
    {
      "cell_type": "code",
      "source": [
        "' I bought a ' + item_name + ' for ' + str(price) + ' kenya shillings '"
      ],
      "metadata": {
        "colab": {
          "base_uri": "https://localhost:8080/",
          "height": 35
        },
        "id": "ivpRnrLJ4TPH",
        "outputId": "1eeaf58f-48b4-4df1-fd3f-48073eb967d6"
      },
      "execution_count": null,
      "outputs": [
        {
          "output_type": "execute_result",
          "data": {
            "text/plain": [
              "' I bought a smartphones for 30000 kenya shillings '"
            ],
            "application/vnd.google.colaboratory.intrinsic+json": {
              "type": "string"
            }
          },
          "metadata": {},
          "execution_count": 8
        }
      ]
    },
    {
      "cell_type": "code",
      "source": [
        "# Creating and manipulating a list\n",
        "list1 = ['laptop','handbag','speaker']"
      ],
      "metadata": {
        "id": "XhrEdAdJ5NJG"
      },
      "execution_count": null,
      "outputs": []
    },
    {
      "cell_type": "code",
      "source": [
        "#Manipulating the list by appending\n",
        "list1.append('smartphones')\n",
        "print(list1)"
      ],
      "metadata": {
        "colab": {
          "base_uri": "https://localhost:8080/"
        },
        "id": "fP9IWlQB6Kw7",
        "outputId": "7d2eca2e-2d97-4859-c78d-d608bd75da82"
      },
      "execution_count": null,
      "outputs": [
        {
          "output_type": "stream",
          "name": "stdout",
          "text": [
            "['laptop', 'handbag', 'speaker', 'smartphones']\n"
          ]
        }
      ]
    },
    {
      "cell_type": "code",
      "source": [
        "list1.extend(['socks','skincare'])\n",
        "print(list1)"
      ],
      "metadata": {
        "colab": {
          "base_uri": "https://localhost:8080/"
        },
        "id": "rM6pVlQr-oYK",
        "outputId": "7dd4cdf8-6006-4132-eb1f-7533e17c0a5a"
      },
      "execution_count": null,
      "outputs": [
        {
          "output_type": "stream",
          "name": "stdout",
          "text": [
            "['laptop', 'handbag', 'speaker', 'smartphones', 'socks', 'skincare']\n"
          ]
        }
      ]
    },
    {
      "cell_type": "code",
      "source": [
        "#Inserting an item to list1\n",
        "list1.insert(0,'earphones')\n",
        "print(list1)"
      ],
      "metadata": {
        "colab": {
          "base_uri": "https://localhost:8080/"
        },
        "id": "PkvzBIRO6ZRI",
        "outputId": "0b715327-2208-4dc0-a5a6-ff44b61f0021"
      },
      "execution_count": null,
      "outputs": [
        {
          "output_type": "stream",
          "name": "stdout",
          "text": [
            "['earphones', 'laptop', 'handbag', 'speaker', 'smartphones', 'socks', 'skincare']\n"
          ]
        }
      ]
    },
    {
      "cell_type": "code",
      "source": [
        "list1.insert(3,'charger')\n",
        "print(list1)"
      ],
      "metadata": {
        "colab": {
          "base_uri": "https://localhost:8080/"
        },
        "id": "OBZZ5sdO63LI",
        "outputId": "b6a40b2c-94ee-4449-e1e0-68d57a8bc9f5"
      },
      "execution_count": null,
      "outputs": [
        {
          "output_type": "stream",
          "name": "stdout",
          "text": [
            "['earphones', 'laptop', 'handbag', 'charger', 'speaker', 'smartphones', 'socks', 'skincare']\n"
          ]
        }
      ]
    },
    {
      "cell_type": "code",
      "source": [
        "#Creating a tuple\n",
        "categories = ('electronics','clothing','medicine','cutlery')\n",
        "print(categories)"
      ],
      "metadata": {
        "colab": {
          "base_uri": "https://localhost:8080/"
        },
        "id": "gzS4TY-87PB7",
        "outputId": "71b3e441-a8e4-4395-e616-125bd41d3d9e"
      },
      "execution_count": null,
      "outputs": [
        {
          "output_type": "stream",
          "name": "stdout",
          "text": [
            "('electronics', 'clothing', 'medicine', 'cutlery')\n"
          ]
        }
      ]
    },
    {
      "cell_type": "code",
      "source": [
        "type(categories)"
      ],
      "metadata": {
        "colab": {
          "base_uri": "https://localhost:8080/"
        },
        "id": "_DfMeRp770bv",
        "outputId": "c00739d1-cbe3-42fe-9765-6878ae12bd95"
      },
      "execution_count": null,
      "outputs": [
        {
          "output_type": "execute_result",
          "data": {
            "text/plain": [
              "tuple"
            ]
          },
          "metadata": {},
          "execution_count": 22
        }
      ]
    },
    {
      "cell_type": "code",
      "source": [
        "#Creating a set and using it\n",
        "prices = {30000,40000,50000,60000,60000,30000}\n",
        "print(prices)"
      ],
      "metadata": {
        "colab": {
          "base_uri": "https://localhost:8080/"
        },
        "id": "uPDxx-GI8I4n",
        "outputId": "265af033-0d4e-43ad-e269-07f8bd251559"
      },
      "execution_count": null,
      "outputs": [
        {
          "output_type": "stream",
          "name": "stdout",
          "text": [
            "{30000, 50000, 60000, 40000}\n"
          ]
        }
      ]
    },
    {
      "cell_type": "code",
      "source": [
        "#Creating a dictionary\n",
        "inventory = {\n",
        "    'electronics' : ['smartphones','chargers','laptops'],\n",
        "    'clothing' : ['shirts','pants','shoes'],\n",
        "    'medicine' : ['drugs','antibiotics','panadols'],\n",
        "    'cutlery' : ['plates','spoons','forks']\n",
        "}\n",
        "print(inventory)\n",
        "\n"
      ],
      "metadata": {
        "colab": {
          "base_uri": "https://localhost:8080/"
        },
        "id": "xZHLrcGk8sBE",
        "outputId": "9a1acd1d-cbf1-4c04-ad7e-84e8042a087e"
      },
      "execution_count": null,
      "outputs": [
        {
          "output_type": "stream",
          "name": "stdout",
          "text": [
            "{'electronics': ['smartphones', 'chargers', 'laptops'], 'clothing': ['shirts', 'pants', 'shoes'], 'medicine': ['drugs', 'antibiotics', 'panadols'], 'cutlery': ['plates', 'spoons', 'forks']}\n"
          ]
        }
      ]
    },
    {
      "cell_type": "code",
      "source": [
        "#Manipulating the dictionary by adding and changing\n",
        "inventory['electronics'] = ['smartphones','chargers','laptops','speakers']\n",
        "inventory['clothing'] = ['shirts','pants','jackets']\n",
        "inventory['medicine'] = ['drugs','panadols']\n",
        "print(inventory)\n"
      ],
      "metadata": {
        "colab": {
          "base_uri": "https://localhost:8080/"
        },
        "id": "rl_VH-pLACX3",
        "outputId": "568d7379-cf9e-42f8-d4a3-66e7f60c2a69"
      },
      "execution_count": null,
      "outputs": [
        {
          "output_type": "stream",
          "name": "stdout",
          "text": [
            "{'electronics': ['smartphones', 'chargers', 'laptops', 'speakers'], 'clothing': ['shirts', 'pants', 'jackets'], 'medicine': ['drugs', 'panadols'], 'cutlery': ['plates', 'spoons', 'forks']}\n"
          ]
        }
      ]
    },
    {
      "cell_type": "code",
      "source": [
        "inventory['electronics'].insert(0,'iphone')\n",
        "print (inventory)"
      ],
      "metadata": {
        "colab": {
          "base_uri": "https://localhost:8080/"
        },
        "id": "87IPJ7PLzPwn",
        "outputId": "788ea262-1dc2-4e67-e610-63c2d47b2215"
      },
      "execution_count": null,
      "outputs": [
        {
          "output_type": "stream",
          "name": "stdout",
          "text": [
            "{'electronics': ['iphone', 'smartphones', 'chargers', 'laptops', 'speakers'], 'clothing': ['shirts', 'pants', 'jackets'], 'medicine': ['drugs', 'panadols'], 'cutlery': ['plates', 'spoons', 'forks']}\n"
          ]
        }
      ]
    },
    {
      "cell_type": "markdown",
      "source": [
        "# **Week 4 : Python Loops and Functions**\n"
      ],
      "metadata": {
        "id": "5nK_tGnJvF6i"
      }
    },
    {
      "cell_type": "code",
      "source": [
        "# If and Else statements:\n",
        "price = int(input('Enter the amount you have: '))\n",
        "\n",
        "\n",
        "if price > 100000:\n",
        "    print('Iphone 16 available')\n",
        "\n",
        "elif price > 70000 and price <= 100000:\n",
        "   print('IPhone 13-15 available')\n",
        "\n",
        "elif price <= 70000 and price >= 40000:\n",
        "    print('Iphone 10 - 12 available')\n",
        "\n",
        "else:\n",
        "    print('Nothing here for your broke ass')\n"
      ],
      "metadata": {
        "colab": {
          "base_uri": "https://localhost:8080/"
        },
        "id": "O9OL9LsIvSqi",
        "outputId": "d8f9e17a-b911-4077-8abe-6d2e7ec6fb35"
      },
      "execution_count": null,
      "outputs": [
        {
          "output_type": "stream",
          "name": "stdout",
          "text": [
            "Enter the amount you have: 80000\n",
            "IPhone 13-15 available\n"
          ]
        }
      ]
    },
    {
      "cell_type": "code",
      "source": [
        "items = {\n",
        "    'appliances' : ['electric kettle','microwave','fridge','washing machines'],\n",
        "    'electronics' : ['smartphones','chargers','laptops','television'],\n",
        "    'clothing' : ['shirts','pants','jackets','shoes'],\n",
        "    'medicine' : ['drugs','panadols','antiboitics','probiotics'],\n",
        "    'cutlery' : ['plates','spoons','forks','glasses']\n",
        "}\n",
        "\n"
      ],
      "metadata": {
        "id": "98Uz-YD2wZXG"
      },
      "execution_count": null,
      "outputs": []
    },
    {
      "cell_type": "code",
      "source": [
        "# For to loop the dictionary and present in a readable format\n",
        "for category in items:\n",
        "    print('\\n','Category:',category)\n",
        "\n",
        "    for item in items[category]:\n",
        "        print('-',item)"
      ],
      "metadata": {
        "colab": {
          "base_uri": "https://localhost:8080/"
        },
        "id": "UhdZDEMP3UI8",
        "outputId": "b3e039e2-2fe5-4024-fdd7-f9ab32aa93a2"
      },
      "execution_count": null,
      "outputs": [
        {
          "output_type": "stream",
          "name": "stdout",
          "text": [
            "\n",
            " Category: appliances\n",
            "- electric kettle\n",
            "- microwave\n",
            "- fridge\n",
            "- washing machines\n",
            "\n",
            " Category: electronics\n",
            "- smartphones\n",
            "- chargers\n",
            "- laptops\n",
            "- television\n",
            "\n",
            " Category: clothing\n",
            "- shirts\n",
            "- pants\n",
            "- jackets\n",
            "- shoes\n",
            "\n",
            " Category: medicine\n",
            "- drugs\n",
            "- panadols\n",
            "- antiboitics\n",
            "- probiotics\n",
            "\n",
            " Category: cutlery\n",
            "- plates\n",
            "- spoons\n",
            "- forks\n",
            "- glasses\n"
          ]
        }
      ]
    },
    {
      "cell_type": "code",
      "source": [
        "# Using a while loop\n",
        "daily_profit = 450000\n",
        "total_profit = 0\n",
        "\n",
        "while total_profit < daily_profit:\n",
        "  profit_made = int(input('Enter profit made this quarter-hour: '))\n",
        "  total_profit += profit_made\n",
        "  print('Total profit made is ',total_profit,'ksh')\n",
        "\n",
        "\n",
        "print('\\n'\"Daily profit is successfully reached. You've made \",total_profit,'ksh')\n",
        "\n"
      ],
      "metadata": {
        "colab": {
          "base_uri": "https://localhost:8080/",
          "height": 110
        },
        "id": "DiR-7xsf3l-Y",
        "outputId": "164b3a4e-3461-4418-e381-cb64bbc68ff2"
      },
      "execution_count": null,
      "outputs": [
        {
          "output_type": "error",
          "ename": "SyntaxError",
          "evalue": "expected ':' (ipython-input-12-3886112618.py, line 5)",
          "traceback": [
            "\u001b[0;36m  File \u001b[0;32m\"/tmp/ipython-input-12-3886112618.py\"\u001b[0;36m, line \u001b[0;32m5\u001b[0m\n\u001b[0;31m    while total_profit < daily_profit\u001b[0m\n\u001b[0m                                     ^\u001b[0m\n\u001b[0;31mSyntaxError\u001b[0m\u001b[0;31m:\u001b[0m expected ':'\n"
          ]
        }
      ]
    },
    {
      "cell_type": "code",
      "source": [
        "# Function\n",
        "prices = {\n",
        "    'smartphone' : 30000,\n",
        "    'charger' : 1000,\n",
        "    'laptop' : 60000,\n",
        "    'shirt' : 1500,\n",
        "    'shoes' : 5000\n",
        "}"
      ],
      "metadata": {
        "id": "U8IWxDHdAYmF"
      },
      "execution_count": null,
      "outputs": []
    },
    {
      "cell_type": "code",
      "source": [
        "def function_name(parameters)"
      ],
      "metadata": {
        "id": "eZWfcNv56UKs"
      },
      "execution_count": null,
      "outputs": []
    },
    {
      "cell_type": "code",
      "source": [
        "def calculate_revenue(item,quantity):\n",
        "    if item in prices:\n",
        "       price = prices[item]\n",
        "       total = price * quantity\n",
        "       return total\n",
        "\n",
        "    else:\n",
        "        return'Item not found'\n",
        "\n",
        "\n",
        "item_name = input(\"Enter item name: \").lower()\n",
        "quantity_sold = int(input('Enter quantity sold: '))\n",
        "revenue = calculate_revenue(item_name,quantity_sold)\n",
        "print('Total revenue selling',quantity_sold,item_name + ('s'),revenue,'ksh')\n",
        "\n"
      ],
      "metadata": {
        "colab": {
          "base_uri": "https://localhost:8080/"
        },
        "id": "fFLsCLv6ELFK",
        "outputId": "77d05200-d9c5-4bfc-e794-5a14ff9634db"
      },
      "execution_count": null,
      "outputs": [
        {
          "output_type": "stream",
          "name": "stdout",
          "text": [
            "Enter item name: SMArtphone\n",
            "Enter quantity sold: 4\n",
            "Total revenue selling 4 smartphones 120000 ksh\n"
          ]
        }
      ]
    },
    {
      "cell_type": "markdown",
      "source": [
        "# **Week 5 : Statistical Measures**"
      ],
      "metadata": {
        "id": "tSZkWsl1kFy6"
      }
    },
    {
      "cell_type": "code",
      "source": [
        "import matplotlib.pyplot as plt\n",
        "import numpy as np\n"
      ],
      "metadata": {
        "id": "63O-i1xokM8t"
      },
      "execution_count": 2,
      "outputs": []
    },
    {
      "cell_type": "code",
      "source": [
        "categories = ['Phones','Laptops','Speakers']\n",
        "prices = {\n",
        "    'Phones' : [40000,60000,80000,100000],\n",
        "    'Laptops' : [30000,40000,50000,60000],\n",
        "    'Speakers' : [1000,2000,3000,4000]\n",
        "}\n"
      ],
      "metadata": {
        "id": "yYV8vTsWnTo9"
      },
      "execution_count": 5,
      "outputs": []
    },
    {
      "cell_type": "code",
      "source": [
        "all_prices = prices['Phones'] + prices['Laptops'] + prices['Speakers']\n",
        "\n",
        "plt.hist(all_prices,bins=5, color='skyblue',edgecolor='black')\n",
        "plt.xlabel('Price Range(Ksh)')\n",
        "plt.ylabel('Number of Items')\n",
        "plt.title('Distribution of Product Prices')\n",
        "plt.show()"
      ],
      "metadata": {
        "colab": {
          "base_uri": "https://localhost:8080/",
          "height": 472
        },
        "id": "emdEzubqnbg-",
        "outputId": "98def416-59fc-4fd4-deba-18ddb997715f"
      },
      "execution_count": 6,
      "outputs": [
        {
          "output_type": "display_data",
          "data": {
            "text/plain": [
              "<Figure size 640x480 with 1 Axes>"
            ],
            "image/png": "[encoded data removed]"
          },
          "metadata": {}
        }
      ]
    },
    {
      "cell_type": "code",
      "source": [
        "categories = ['Phones','Laptops','Speakers']\n",
        "prices = {\n",
        "    'Phones' : [40000,60000,80000,100000],\n",
        "    'Laptops' : [30000,40000,50000,60000],\n",
        "    'Speakers' : [1000,2000,3000,4000]\n",
        "}\n",
        "\n",
        "mean_prices = [np.mean(prices[cat]) for cat in categories]\n",
        "median_prices = [np.median(prices[cat]) for cat in categories] #70000.0,45000.0,2500.0\n",
        "\n",
        "# Step 3: Plotting the mean and median using bars and dots\n",
        "plt.bar(categories, mean_prices, color='skyblue', label='Mean Price')\n",
        "plt.plot(categories, median_prices, color='orange', marker= 'o', label='Median Price')\n",
        "\n",
        "# Step 4: Add labels and legend\n",
        "plt.title('Average (Mean) and Median Prices by Category')\n",
        "plt.ylabel('Price in Ksh')\n",
        "plt.legend()\n",
        "plt.show()"
      ],
      "metadata": {
        "colab": {
          "base_uri": "https://localhost:8080/",
          "height": 453
        },
        "id": "ODcNuMksqLtp",
        "outputId": "d3e49578-de01-42b6-e2b7-5ecee7c4b666"
      },
      "execution_count": 17,
      "outputs": [
        {
          "output_type": "display_data",
          "data": {
            "text/plain": [
              "<Figure size 640x480 with 1 Axes>"
            ],
            "image/png": "[encoded data removed]"
          },
          "metadata": {}
        }
      ]
    },
    {
      "cell_type": "code",
      "source": [
        "plt.style.use('ggplot')\n",
        "plt.boxplot(all_prices)\n",
        "plt.show()"
      ],
      "metadata": {
        "colab": {
          "base_uri": "https://localhost:8080/",
          "height": 430
        },
        "id": "Md8-kIRfx_fC",
        "outputId": "8ea946e9-163c-4180-8e12-66387b78ca27"
      },
      "execution_count": 15,
      "outputs": [
        {
          "output_type": "display_data",
          "data": {
            "text/plain": [
              "<Figure size 640x480 with 1 Axes>"
            ],
            "image/png": "[encoded data removed]"
          },
          "metadata": {}
        }
      ]
    },
    {
      "cell_type": "code",
      "source": [
        "#Inter-quartile Range\n",
        "prices_sorted   = sorted(all_prices)\n",
        "\n",
        "prices_distance = len(all_prices)-1\n",
        "\n",
        "pos_25 = 0.25 * prices_distance\n",
        "vl_25 = prices_sorted[int(pos_25)]\n",
        "\n",
        "pos_75 = 0.75 * prices_distance\n",
        "vl_75 = prices_sorted[int(pos_75)]\n",
        "\n",
        "\n",
        "iqr = vl_75 - vl_25\n",
        "print(iqr)\n"
      ],
      "metadata": {
        "colab": {
          "base_uri": "https://localhost:8080/"
        },
        "id": "op_MtSxT1KzF",
        "outputId": "df4ce1dd-8015-436e-b0d7-97004a102a08"
      },
      "execution_count": 14,
      "outputs": [
        {
          "output_type": "stream",
          "name": "stdout",
          "text": [
            "57000\n"
          ]
        }
      ]
    },
    {
      "cell_type": "code",
      "source": [
        "#Variance\n",
        "np.var(all_prices)"
      ],
      "metadata": {
        "colab": {
          "base_uri": "https://localhost:8080/"
        },
        "id": "vnJRSEap3YSd",
        "outputId": "0295bff6-5341-4068-ff11-5a911bdf169e"
      },
      "execution_count": 8,
      "outputs": [
        {
          "output_type": "execute_result",
          "data": {
            "text/plain": [
              "np.float64(985138888.8888888)"
            ]
          },
          "metadata": {},
          "execution_count": 8
        }
      ]
    },
    {
      "cell_type": "code",
      "source": [
        "#Standard Deviation\n",
        "np.std(all_prices) #31386.92"
      ],
      "metadata": {
        "colab": {
          "base_uri": "https://localhost:8080/"
        },
        "id": "oz7nn-uy-oeO",
        "outputId": "a70097bd-e507-48b7-97a9-4f3bf174869a"
      },
      "execution_count": 10,
      "outputs": [
        {
          "output_type": "execute_result",
          "data": {
            "text/plain": [
              "np.float64(31386.92225894232)"
            ]
          },
          "metadata": {},
          "execution_count": 10
        }
      ]
    },
    {
      "cell_type": "code",
      "source": [
        "#Range\n",
        "np.max(all_prices) - np.min(all_prices)"
      ],
      "metadata": {
        "colab": {
          "base_uri": "https://localhost:8080/"
        },
        "id": "p2qx1yeS4eIT",
        "outputId": "49dc8e26-6d88-4718-963f-f256aef86565"
      },
      "execution_count": 11,
      "outputs": [
        {
          "output_type": "execute_result",
          "data": {
            "text/plain": [
              "np.int64(99000)"
            ]
          },
          "metadata": {},
          "execution_count": 11
        }
      ]
    },
    {
      "cell_type": "code",
      "source": [
        "#Percentile\n",
        "np.percentile(all_prices,75) - np.percentile(all_prices,25)"
      ],
      "metadata": {
        "colab": {
          "base_uri": "https://localhost:8080/"
        },
        "id": "ZV7xVxDc7lv_",
        "outputId": "88e7651e-947a-4373-f938-9e9bb19cd03c"
      },
      "execution_count": 12,
      "outputs": [
        {
          "output_type": "execute_result",
          "data": {
            "text/plain": [
              "np.float64(56250.0)"
            ]
          },
          "metadata": {},
          "execution_count": 12
        }
      ]
    }
  ]
}