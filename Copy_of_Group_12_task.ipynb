{
  "nbformat": 4,
  "nbformat_minor": 0,
  "metadata": {
    "colab": {
      "provenance": []
    },
    "kernelspec": {
      "name": "python3",
      "display_name": "Python 3"
    },
    "language_info": {
      "name": "python"
    }
  },
  "cells": [
    {
      "cell_type": "markdown",
      "source": [
        "**Group 12's project based on Online Shops**"
      ],
      "metadata": {
        "id": "yrYhzR8ZzxmY"
      }
    },
    {
      "cell_type": "code",
      "execution_count": null,
      "metadata": {
        "id": "75PuVeKSwkH0"
      },
      "outputs": [],
      "source": [
        "#Creating variables of different data types\n",
        "item_name = 'smartphones'     #string\n",
        "price = 30000                 #integer\n",
        "on_sale = True                #boolean\n",
        "rating = 4.0                  #float"
      ]
    },
    {
      "cell_type": "code",
      "source": [
        "' I bought a ' + item_name + ' for ' + str(price) + ' kenya shillings '"
      ],
      "metadata": {
        "colab": {
          "base_uri": "https://localhost:8080/",
          "height": 35
        },
        "id": "ivpRnrLJ4TPH",
        "outputId": "1eeaf58f-48b4-4df1-fd3f-48073eb967d6"
      },
      "execution_count": null,
      "outputs": [
        {
          "output_type": "execute_result",
          "data": {
            "text/plain": [
              "' I bought a smartphones for 30000 kenya shillings '"
            ],
            "application/vnd.google.colaboratory.intrinsic+json": {
              "type": "string"
            }
          },
          "metadata": {},
          "execution_count": 8
        }
      ]
    },
    {
      "cell_type": "code",
      "source": [
        "# Creating and manipulating a list\n",
        "list1 = ['laptop','handbag','speaker']"
      ],
      "metadata": {
        "id": "XhrEdAdJ5NJG"
      },
      "execution_count": null,
      "outputs": []
    },
    {
      "cell_type": "code",
      "source": [
        "#Manipulating the list by appending\n",
        "list1.append('smartphones')\n",
        "print(list1)"
      ],
      "metadata": {
        "colab": {
          "base_uri": "https://localhost:8080/"
        },
        "id": "fP9IWlQB6Kw7",
        "outputId": "7d2eca2e-2d97-4859-c78d-d608bd75da82"
      },
      "execution_count": null,
      "outputs": [
        {
          "output_type": "stream",
          "name": "stdout",
          "text": [
            "['laptop', 'handbag', 'speaker', 'smartphones']\n"
          ]
        }
      ]
    },
    {
      "cell_type": "code",
      "source": [
        "list1.extend(['socks','skincare'])\n",
        "print(list1)"
      ],
      "metadata": {
        "colab": {
          "base_uri": "https://localhost:8080/"
        },
        "id": "rM6pVlQr-oYK",
        "outputId": "7dd4cdf8-6006-4132-eb1f-7533e17c0a5a"
      },
      "execution_count": null,
      "outputs": [
        {
          "output_type": "stream",
          "name": "stdout",
          "text": [
            "['laptop', 'handbag', 'speaker', 'smartphones', 'socks', 'skincare']\n"
          ]
        }
      ]
    },
    {
      "cell_type": "code",
      "source": [
        "#Inserting an item to list1\n",
        "list1.insert(0,'earphones')\n",
        "print(list1)"
      ],
      "metadata": {
        "colab": {
          "base_uri": "https://localhost:8080/"
        },
        "id": "PkvzBIRO6ZRI",
        "outputId": "0b715327-2208-4dc0-a5a6-ff44b61f0021"
      },
      "execution_count": null,
      "outputs": [
        {
          "output_type": "stream",
          "name": "stdout",
          "text": [
            "['earphones', 'laptop', 'handbag', 'speaker', 'smartphones', 'socks', 'skincare']\n"
          ]
        }
      ]
    },
    {
      "cell_type": "code",
      "source": [
        "list1.insert(3,'charger')\n",
        "print(list1)"
      ],
      "metadata": {
        "colab": {
          "base_uri": "https://localhost:8080/"
        },
        "id": "OBZZ5sdO63LI",
        "outputId": "b6a40b2c-94ee-4449-e1e0-68d57a8bc9f5"
      },
      "execution_count": null,
      "outputs": [
        {
          "output_type": "stream",
          "name": "stdout",
          "text": [
            "['earphones', 'laptop', 'handbag', 'charger', 'speaker', 'smartphones', 'socks', 'skincare']\n"
          ]
        }
      ]
    },
    {
      "cell_type": "code",
      "source": [
        "#Creating a tuple\n",
        "categories = ('electronics','clothing','medicine','cutlery')\n",
        "print(categories)"
      ],
      "metadata": {
        "colab": {
          "base_uri": "https://localhost:8080/"
        },
        "id": "gzS4TY-87PB7",
        "outputId": "71b3e441-a8e4-4395-e616-125bd41d3d9e"
      },
      "execution_count": null,
      "outputs": [
        {
          "output_type": "stream",
          "name": "stdout",
          "text": [
            "('electronics', 'clothing', 'medicine', 'cutlery')\n"
          ]
        }
      ]
    },
    {
      "cell_type": "code",
      "source": [
        "type(categories)"
      ],
      "metadata": {
        "colab": {
          "base_uri": "https://localhost:8080/"
        },
        "id": "_DfMeRp770bv",
        "outputId": "c00739d1-cbe3-42fe-9765-6878ae12bd95"
      },
      "execution_count": null,
      "outputs": [
        {
          "output_type": "execute_result",
          "data": {
            "text/plain": [
              "tuple"
            ]
          },
          "metadata": {},
          "execution_count": 22
        }
      ]
    },
    {
      "cell_type": "code",
      "source": [
        "#Creating a set and using it\n",
        "prices = {30000,40000,50000,60000,60000,30000}\n",
        "print(prices)"
      ],
      "metadata": {
        "colab": {
          "base_uri": "https://localhost:8080/"
        },
        "id": "uPDxx-GI8I4n",
        "outputId": "265af033-0d4e-43ad-e269-07f8bd251559"
      },
      "execution_count": null,
      "outputs": [
        {
          "output_type": "stream",
          "name": "stdout",
          "text": [
            "{30000, 50000, 60000, 40000}\n"
          ]
        }
      ]
    },
    {
      "cell_type": "code",
      "source": [
        "#Creating a dictionary\n",
        "inventory = {\n",
        "    'electronics' : ['smartphones','chargers','laptops'],\n",
        "    'clothing' : ['shirts','pants','shoes'],\n",
        "    'medicine' : ['drugs','antibiotics','panadols'],\n",
        "    'cutlery' : ['plates','spoons','forks']\n",
        "}\n",
        "print(inventory)\n",
        "\n"
      ],
      "metadata": {
        "colab": {
          "base_uri": "https://localhost:8080/"
        },
        "id": "xZHLrcGk8sBE",
        "outputId": "9a1acd1d-cbf1-4c04-ad7e-84e8042a087e"
      },
      "execution_count": null,
      "outputs": [
        {
          "output_type": "stream",
          "name": "stdout",
          "text": [
            "{'electronics': ['smartphones', 'chargers', 'laptops'], 'clothing': ['shirts', 'pants', 'shoes'], 'medicine': ['drugs', 'antibiotics', 'panadols'], 'cutlery': ['plates', 'spoons', 'forks']}\n"
          ]
        }
      ]
    },
    {
      "cell_type": "code",
      "source": [
        "#Manipulating the dictionary by adding and changing\n",
        "inventory['electronics'] = ['smartphones','chargers','laptops','speakers']\n",
        "inventory['clothing'] = ['shirts','pants','jackets']\n",
        "inventory['medicine'] = ['drugs','panadols']\n",
        "print(inventory)\n"
      ],
      "metadata": {
        "colab": {
          "base_uri": "https://localhost:8080/"
        },
        "id": "rl_VH-pLACX3",
        "outputId": "568d7379-cf9e-42f8-d4a3-66e7f60c2a69"
      },
      "execution_count": null,
      "outputs": [
        {
          "output_type": "stream",
          "name": "stdout",
          "text": [
            "{'electronics': ['smartphones', 'chargers', 'laptops', 'speakers'], 'clothing': ['shirts', 'pants', 'jackets'], 'medicine': ['drugs', 'panadols'], 'cutlery': ['plates', 'spoons', 'forks']}\n"
          ]
        }
      ]
    },
    {
      "cell_type": "code",
      "source": [
        "inventory['electronics'].insert(0,'iphone')\n",
        "print (inventory)"
      ],
      "metadata": {
        "colab": {
          "base_uri": "https://localhost:8080/"
        },
        "id": "87IPJ7PLzPwn",
        "outputId": "788ea262-1dc2-4e67-e610-63c2d47b2215"
      },
      "execution_count": null,
      "outputs": [
        {
          "output_type": "stream",
          "name": "stdout",
          "text": [
            "{'electronics': ['iphone', 'smartphones', 'chargers', 'laptops', 'speakers'], 'clothing': ['shirts', 'pants', 'jackets'], 'medicine': ['drugs', 'panadols'], 'cutlery': ['plates', 'spoons', 'forks']}\n"
          ]
        }
      ]
    }
  ]
}